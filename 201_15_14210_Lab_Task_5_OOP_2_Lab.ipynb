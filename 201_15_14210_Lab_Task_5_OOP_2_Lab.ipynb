{
  "nbformat": 4,
  "nbformat_minor": 0,
  "metadata": {
    "colab": {
      "provenance": [],
      "authorship_tag": "ABX9TyP/GcLM3Anespr18oGNUaar",
      "include_colab_link": true
    },
    "kernelspec": {
      "name": "python3",
      "display_name": "Python 3"
    },
    "language_info": {
      "name": "python"
    }
  },
  "cells": [
    {
      "cell_type": "markdown",
      "metadata": {
        "id": "view-in-github",
        "colab_type": "text"
      },
      "source": [
        "<a href=\"https://colab.research.google.com/github/anikakash/OOP_University_Class/blob/main/201_15_14210_Lab_Task_5_OOP_2_Lab.ipynb\" target=\"_parent\"><img src=\"https://colab.research.google.com/assets/colab-badge.svg\" alt=\"Open In Colab\"/></a>"
      ]
    },
    {
      "cell_type": "markdown",
      "source": [
        "# Task -1"
      ],
      "metadata": {
        "id": "oRTpYPR58EPX"
      }
    },
    {
      "cell_type": "code",
      "execution_count": 41,
      "metadata": {
        "colab": {
          "base_uri": "https://localhost:8080/"
        },
        "id": "2nurVFTA7zON",
        "outputId": "475600a8-9da6-494d-e46e-15d0779411e1"
      },
      "outputs": [
        {
          "output_type": "stream",
          "name": "stdout",
          "text": [
            "400\n"
          ]
        }
      ],
      "source": [
        "a_tuple = (\"The Institute\", (\"Best Mystery & Thriller\", \"The Silent Patient\", 68821), 75717, [1, 2, 3, 400, 5, 6, 7], (\"Best Fiction\", \"The Testaments\", 98291))\n",
        "print(a_tuple[3][3])"
      ]
    },
    {
      "cell_type": "markdown",
      "source": [
        "# Task - 2"
      ],
      "metadata": {
        "id": "fVoIs5Sy9erW"
      }
    },
    {
      "cell_type": "code",
      "source": [
        "input_tuple1 = (10, 20, 24, 25, 26, 35, 70)\n",
        "new_tuple = input_tuple1[2:-2]\n",
        "print(new_tuple)\n",
        "\n",
        "input_tuple2 = (-10, 20, 30, 40)\n",
        "new_tuple = input_tuple2[2:-2]\n",
        "print(new_tuple)\n",
        "\n",
        "input_tuple3 = (-10, 20, 25, 30, 40)\n",
        "new_tuple = input_tuple3[2:-2]\n",
        "print(new_tuple)\n"
      ],
      "metadata": {
        "colab": {
          "base_uri": "https://localhost:8080/"
        },
        "id": "Bi9vVR4q8Ggm",
        "outputId": "33d5a2ba-a913-4cc3-b71f-697f7c1ee91d"
      },
      "execution_count": 42,
      "outputs": [
        {
          "output_type": "stream",
          "name": "stdout",
          "text": [
            "(24, 25, 26)\n",
            "()\n",
            "(25,)\n"
          ]
        }
      ]
    },
    {
      "cell_type": "markdown",
      "source": [
        "# Task - 3"
      ],
      "metadata": {
        "id": "wScqZ9vx9jcW"
      }
    },
    {
      "cell_type": "code",
      "source": [
        "book_info = (\n",
        "    (\"Best Mystery & Thriller\", \"The Silent Patient\", 68, 821),\n",
        "    (\"Best Horror\", \"The Institute\", 75, 717),\n",
        "    (\"Best History & Biography\", \"The five\", 31, 783),\n",
        "    (\"Best Fiction\", \"The Testaments\", 98, 291)\n",
        ")\n",
        "\n",
        "print(f\"Size of the tuple is: {len(book_info)}\")\n",
        "for book in book_info:\n",
        "    print(book)\n"
      ],
      "metadata": {
        "colab": {
          "base_uri": "https://localhost:8080/"
        },
        "id": "dM9y7RDO9YpO",
        "outputId": "92cd6f41-765d-418d-e0c1-9e9823303322"
      },
      "execution_count": 43,
      "outputs": [
        {
          "output_type": "stream",
          "name": "stdout",
          "text": [
            "Size of the tuple is: 4\n",
            "('Best Mystery & Thriller', 'The Silent Patient', 68, 821)\n",
            "('Best Horror', 'The Institute', 75, 717)\n",
            "('Best History & Biography', 'The five', 31, 783)\n",
            "('Best Fiction', 'The Testaments', 98, 291)\n"
          ]
        }
      ]
    },
    {
      "cell_type": "markdown",
      "source": [
        "# Task - 4"
      ],
      "metadata": {
        "id": "Hv_aDuHl92uG"
      }
    },
    {
      "cell_type": "code",
      "source": [
        "book_info = (\n",
        "    (\"Best Mystery & Thriller\", \"The Silent Patient\", 68821),\n",
        "    (\"Best Horror\", \"The Institute\", 75717),\n",
        "    (\"Best History & Biography\", \"The five\", 31783),\n",
        "    (\"Best Fiction\", \"The Testaments\", 98291)\n",
        ")\n",
        "\n",
        "for category, book, votes in book_info:\n",
        "    print(f\"{book} won the '{category}' category with {votes} votes\")\n"
      ],
      "metadata": {
        "colab": {
          "base_uri": "https://localhost:8080/"
        },
        "id": "t70PS4-j934s",
        "outputId": "e0c87341-da00-472e-eb1c-dd742a611f6e"
      },
      "execution_count": 44,
      "outputs": [
        {
          "output_type": "stream",
          "name": "stdout",
          "text": [
            "The Silent Patient won the 'Best Mystery & Thriller' category with 68821 votes\n",
            "The Institute won the 'Best Horror' category with 75717 votes\n",
            "The five won the 'Best History & Biography' category with 31783 votes\n",
            "The Testaments won the 'Best Fiction' category with 98291 votes\n"
          ]
        }
      ]
    },
    {
      "cell_type": "markdown",
      "source": [
        "# Task-5"
      ],
      "metadata": {
        "id": "5A4pvYC1K1YD"
      }
    },
    {
      "cell_type": "code",
      "source": [
        "values = (10, 8, 5, 2, 10, 15, 10, 8, 5, 8, 8, 2)\n",
        "n = int(input(\"Enter a number to find its occurrences in the tuple: \"))\n",
        "occurrences = values.count(n)\n",
        "print(f\"{n} appears {occurrences} times in the tuple\")\n"
      ],
      "metadata": {
        "colab": {
          "base_uri": "https://localhost:8080/"
        },
        "id": "0uAU52xyK2nx",
        "outputId": "9d07d0c3-43c8-4a70-b86c-119f84259e97"
      },
      "execution_count": 45,
      "outputs": [
        {
          "output_type": "stream",
          "name": "stdout",
          "text": [
            "Enter a number to find its occurrences in the tuple: 5\n",
            "5 appears 2 times in the tuple\n"
          ]
        }
      ]
    },
    {
      "cell_type": "markdown",
      "source": [
        "# Task-6"
      ],
      "metadata": {
        "id": "Z_9_3sttMKwC"
      }
    },
    {
      "cell_type": "code",
      "source": [
        "\n",
        "letters = ('a', 'b', 'c', 'd', 'e', 'f', 'g', 'h')\n",
        "\n",
        "tuple_list = list(letters)\n",
        "\n",
        "tuple_list.reverse()\n",
        "reversed_tuple = tuple(tuple_list)\n",
        "print(reversed_tuple)\n"
      ],
      "metadata": {
        "colab": {
          "base_uri": "https://localhost:8080/"
        },
        "id": "L4yk891lML9q",
        "outputId": "9111f250-0fd8-4d01-d1b6-fa9d2ef07274"
      },
      "execution_count": 46,
      "outputs": [
        {
          "output_type": "stream",
          "name": "stdout",
          "text": [
            "('h', 'g', 'f', 'e', 'd', 'c', 'b', 'a')\n"
          ]
        }
      ]
    },
    {
      "cell_type": "markdown",
      "source": [
        "\n",
        "# Part 2 : Dictionary\n",
        "## Task - 7\n",
        "\n"
      ],
      "metadata": {
        "id": "1Ff0VpNxNFny"
      }
    },
    {
      "cell_type": "code",
      "source": [
        "dict1 = {'Harry': 15, 'Draco': 8, 'Nevil': 19}\n",
        "dict2 = {'Ginie': 18, 'Luna': 14}\n",
        "\n",
        "marks = dict1.copy()\n",
        "marks.update(dict2)\n",
        "print(marks)\n"
      ],
      "metadata": {
        "colab": {
          "base_uri": "https://localhost:8080/"
        },
        "id": "BoNtnpmPNLaa",
        "outputId": "32ce032a-16d0-4107-b155-13ee2b8b83bc"
      },
      "execution_count": 47,
      "outputs": [
        {
          "output_type": "stream",
          "name": "stdout",
          "text": [
            "{'Harry': 15, 'Draco': 8, 'Nevil': 19, 'Ginie': 18, 'Luna': 14}\n"
          ]
        }
      ]
    },
    {
      "cell_type": "markdown",
      "source": [
        "# Task - 8"
      ],
      "metadata": {
        "id": "m71v3vlyN_Ra"
      }
    },
    {
      "cell_type": "code",
      "source": [
        "\n",
        "user_dict = {}\n",
        "\n",
        "while True:\n",
        "    key = input(\"Enter a key (or 'exit' to finish): \")\n",
        "    if key.lower() == 'exit':\n",
        "        break\n",
        "    value = int(input(f\"Enter the value for '{key}': \"))\n",
        "    user_dict[key] = value\n",
        "\n",
        "\n",
        "values = user_dict.values()\n",
        "total = 0\n",
        "count = 0\n",
        "\n",
        "for val in values:\n",
        "    total += val\n",
        "    count += 1\n",
        "\n",
        "if count == 0:\n",
        "    print(\"Cannot calculate average. The dictionary is empty.\")\n",
        "else:\n",
        "    average = total / count\n",
        "    print(f\"Average is {average}\")\n"
      ],
      "metadata": {
        "colab": {
          "base_uri": "https://localhost:8080/"
        },
        "id": "2nejqpf4OAaK",
        "outputId": "afa94715-4e91-496f-b14d-95c6fc7ef3c4"
      },
      "execution_count": 48,
      "outputs": [
        {
          "output_type": "stream",
          "name": "stdout",
          "text": [
            "Enter a key (or 'exit' to finish): exit\n",
            "Cannot calculate average. The dictionary is empty.\n"
          ]
        }
      ]
    },
    {
      "cell_type": "markdown",
      "source": [
        "# Task - 9"
      ],
      "metadata": {
        "id": "Lt2bPrZSOVxC"
      }
    },
    {
      "cell_type": "code",
      "source": [
        "exam_marks = {'Cierra Vega': 175, 'Alden Cantrell': 200, 'Kierra Gentry': 165, 'Pierre Cox': 190}\n",
        "\n",
        "user_input = int(input(\"Enter a value to filter the dictionary: \"))\n",
        "\n",
        "filtered_dict = {}\n",
        "\n",
        "for key, value in exam_marks.items():\n",
        "    if value >= user_input:\n",
        "        filtered_dict[key] = value\n",
        "\n",
        "print(filtered_dict)\n"
      ],
      "metadata": {
        "colab": {
          "base_uri": "https://localhost:8080/"
        },
        "id": "8eQqzLHPOW0S",
        "outputId": "125910a6-a6bf-4091-ef8d-c5b6e3c8c640"
      },
      "execution_count": 49,
      "outputs": [
        {
          "output_type": "stream",
          "name": "stdout",
          "text": [
            "Enter a value to filter the dictionary: 200\n",
            "{'Alden Cantrell': 200}\n"
          ]
        }
      ]
    },
    {
      "cell_type": "markdown",
      "source": [
        "# Task - 10"
      ],
      "metadata": {
        "id": "yYUODDyuPWrb"
      }
    },
    {
      "cell_type": "code",
      "source": [
        "seling_history = {'sci fi': 12, 'mystery': 15, 'horror': 8, 'mythology': 10, 'young_adult': 4, 'adventure':14}\n",
        "\n",
        "mx=0\n",
        "movie_name=\"\"\n",
        "\n",
        "for key, value in seling_history.items():\n",
        "  if mx<value:\n",
        "    mx=value\n",
        "    movie_name = key\n",
        "\n",
        "print(f\"The highest selling book genre is '{movie_name}' and the number of books sold are {mx}.\");\n"
      ],
      "metadata": {
        "colab": {
          "base_uri": "https://localhost:8080/"
        },
        "id": "_00MiMh8PXvr",
        "outputId": "9baeb1b3-570c-483b-ac76-aa6ce99bbdb6"
      },
      "execution_count": 50,
      "outputs": [
        {
          "output_type": "stream",
          "name": "stdout",
          "text": [
            "The highest selling book genre is 'mystery' and the number of books sold are 15.\n"
          ]
        }
      ]
    },
    {
      "cell_type": "markdown",
      "source": [
        "# Task - 11"
      ],
      "metadata": {
        "id": "G5dK-UdPQf3T"
      }
    },
    {
      "cell_type": "code",
      "source": [
        "str_val = \"Python programming is fun\"\n",
        "str_val = str_val.lower()\n",
        "freq = {}\n",
        "\n",
        "for char in str_val:\n",
        "  if char.isalpha():\n",
        "    if char in freq:\n",
        "        freq[char] += 1\n",
        "    else:\n",
        "        freq[char] = 1\n",
        "\n",
        "print(freq)\n"
      ],
      "metadata": {
        "colab": {
          "base_uri": "https://localhost:8080/"
        },
        "id": "ry_RAeENPkVj",
        "outputId": "96f42ce9-8a45-48f9-91d9-32bc4144d9e4"
      },
      "execution_count": 51,
      "outputs": [
        {
          "output_type": "stream",
          "name": "stdout",
          "text": [
            "{'p': 2, 'y': 1, 't': 1, 'h': 1, 'o': 2, 'n': 3, 'r': 2, 'g': 2, 'a': 1, 'm': 2, 'i': 2, 's': 1, 'f': 1, 'u': 1}\n"
          ]
        }
      ]
    },
    {
      "cell_type": "markdown",
      "source": [
        "# Task - 12"
      ],
      "metadata": {
        "id": "gVLmj0NFScUU"
      }
    },
    {
      "cell_type": "code",
      "source": [
        "dict_1 = {'A': [1, 2, 3], 'b': ['1', '2'], \"c\": [4, 5, 6, 7]}\n",
        "\n",
        "total_items = 0\n",
        "\n",
        "for key in dict_1:\n",
        "    for item in dict_1[key]:\n",
        "        total_items += 1\n",
        "\n",
        "print(total_items)\n"
      ],
      "metadata": {
        "colab": {
          "base_uri": "https://localhost:8080/"
        },
        "id": "-nIV0yV5Q20C",
        "outputId": "dc0aa3db-3c24-4c6d-d472-e545a3123354"
      },
      "execution_count": 52,
      "outputs": [
        {
          "output_type": "stream",
          "name": "stdout",
          "text": [
            "9\n"
          ]
        }
      ]
    },
    {
      "cell_type": "markdown",
      "source": [
        "# Task-13"
      ],
      "metadata": {
        "id": "ZN2C0NbuUPij"
      }
    },
    {
      "cell_type": "code",
      "source": [
        "list_1 = [(\"a\", 1), (\"b\", 2), (\"a\", 3), (\"b\", 1), (\"a\", 2), (\"c\", 1)]\n",
        "\n",
        "result_dict = {}\n",
        "\n",
        "for key, value in list_1:\n",
        "    if key in result_dict:\n",
        "        result_dict[key].append(value)\n",
        "    else:\n",
        "        result_dict[key] = [value]\n",
        "\n",
        "print(result_dict)\n"
      ],
      "metadata": {
        "colab": {
          "base_uri": "https://localhost:8080/"
        },
        "id": "vtA2TXFJSffi",
        "outputId": "20471750-f528-442b-f3eb-d2a2781d3604"
      },
      "execution_count": 55,
      "outputs": [
        {
          "output_type": "stream",
          "name": "stdout",
          "text": [
            "{'a': [1, 3, 2], 'b': [2, 1], 'c': [1]}\n"
          ]
        }
      ]
    },
    {
      "cell_type": "markdown",
      "source": [
        "# Task-14\n",
        "here i add scren shot from another notebook cause of there are some variable reassign error.\n",
        "i use 'str' as a variable avobe but now i can't find that so it give error. here i add the code and output. also add the code in below cell"
      ],
      "metadata": {
        "id": "7mO55cV-Xg88"
      }
    },
    {
      "cell_type": "markdown",
      "source": [
        "![image.png](data:image/png;base64,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)"
      ],
      "metadata": {
        "id": "xJCJBnmxUaoE"
      }
    },
    {
      "cell_type": "code",
      "source": [
        "dict1 = {'a': 59, 'b': -82, 'c': 5, 'd': -81, 'e': 53}\n",
        "\n",
        "for i in dict1:\n",
        "    j = 0\n",
        "    k = 22\n",
        "    while j < 5:\n",
        "        if j % 2 == 0:\n",
        "            k = dict1[i] + j - (8 + k % 6) / 3\n",
        "            dict1[i] = dict1[i] + int(k)\n",
        "        else:\n",
        "            k = dict1[i] + j - (6 - k % 8) * 3\n",
        "            dict1[i] = dict1[i] - int(k)\n",
        "        j += 1\n",
        "    print(int(k))\n",
        "    print(i + \" -> \" + str(dict1[i]))\n"
      ],
      "metadata": {
        "colab": {
          "base_uri": "https://localhost:8080/",
          "height": 227
        },
        "id": "0fkiEeShUbRU",
        "outputId": "429c2f03-8f08-4064-e813-7e13a20d3f20"
      },
      "execution_count": 56,
      "outputs": [
        {
          "output_type": "stream",
          "name": "stdout",
          "text": [
            "8\n"
          ]
        },
        {
          "output_type": "error",
          "ename": "TypeError",
          "evalue": "ignored",
          "traceback": [
            "\u001b[0;31m---------------------------------------------------------------------------\u001b[0m",
            "\u001b[0;31mTypeError\u001b[0m                                 Traceback (most recent call last)",
            "\u001b[0;32m<ipython-input-56-ac0a8f138fbf>\u001b[0m in \u001b[0;36m<cell line: 3>\u001b[0;34m()\u001b[0m\n\u001b[1;32m     13\u001b[0m         \u001b[0mj\u001b[0m \u001b[0;34m+=\u001b[0m \u001b[0;36m1\u001b[0m\u001b[0;34m\u001b[0m\u001b[0;34m\u001b[0m\u001b[0m\n\u001b[1;32m     14\u001b[0m     \u001b[0mprint\u001b[0m\u001b[0;34m(\u001b[0m\u001b[0mint\u001b[0m\u001b[0;34m(\u001b[0m\u001b[0mk\u001b[0m\u001b[0;34m)\u001b[0m\u001b[0;34m)\u001b[0m\u001b[0;34m\u001b[0m\u001b[0;34m\u001b[0m\u001b[0m\n\u001b[0;32m---> 15\u001b[0;31m     \u001b[0mprint\u001b[0m\u001b[0;34m(\u001b[0m\u001b[0mi\u001b[0m \u001b[0;34m+\u001b[0m \u001b[0;34m\" -> \"\u001b[0m \u001b[0;34m+\u001b[0m \u001b[0mstr\u001b[0m\u001b[0;34m(\u001b[0m\u001b[0mdict1\u001b[0m\u001b[0;34m[\u001b[0m\u001b[0mi\u001b[0m\u001b[0;34m]\u001b[0m\u001b[0;34m)\u001b[0m\u001b[0;34m)\u001b[0m\u001b[0;34m\u001b[0m\u001b[0;34m\u001b[0m\u001b[0m\n\u001b[0m",
            "\u001b[0;31mTypeError\u001b[0m: 'str' object is not callable"
          ]
        }
      ]
    },
    {
      "cell_type": "markdown",
      "source": [
        "# Optional Task\n",
        "## Task - 15"
      ],
      "metadata": {
        "id": "ONohdPpvYGDc"
      }
    },
    {
      "cell_type": "code",
      "source": [
        "values = [(2, 3), (4, 5), (6, 7), (2, 8)]\n",
        "\n",
        "value = []\n",
        "\n",
        "for a, b in values:\n",
        "    value.append(a * b)\n",
        "\n",
        "print(value)\n"
      ],
      "metadata": {
        "colab": {
          "base_uri": "https://localhost:8080/"
        },
        "id": "A_6LFkkKYN-b",
        "outputId": "80bfe650-32df-4cab-a449-902a4fbeb6d5"
      },
      "execution_count": 57,
      "outputs": [
        {
          "output_type": "stream",
          "name": "stdout",
          "text": [
            "[6, 20, 42, 16]\n"
          ]
        }
      ]
    },
    {
      "cell_type": "code",
      "source": [],
      "metadata": {
        "id": "rHI1b5NsYgLU"
      },
      "execution_count": null,
      "outputs": []
    }
  ]
}